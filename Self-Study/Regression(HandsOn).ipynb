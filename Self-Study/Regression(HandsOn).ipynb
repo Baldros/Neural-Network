{
 "cells": [
  {
   "cell_type": "markdown",
   "id": "98b067ee-54b4-4004-9562-8d79a36f9c94",
   "metadata": {},
   "source": [
    "# Apresentação:\n",
    "\n",
    "O objetivo desse código é avançar nos estudos de **Redes Neurais** e **Deep Learning** agora no universo de **Regressão**, ou seja, problemas de predição quando $y$ está no **contínuo**, tal que $y \\in \\mathbb{R}$.\n",
    "\n",
    "## Conjunto de Dados:\n",
    "\n",
    "Para esse estudo, o conjunto de dados utilizados será o [*fetch california housing*](https://scikit-learn.org/stable/modules/generated/sklearn.datasets.fetch_california_housing.html), uma simplificação do California Housing que contém apenas características numéricas (não há característica `ocean_proximity`) e não há valores ausentes.\n",
    "\n",
    "## Material Base:\n",
    "\n",
    "* **Hands On Machine Learning with Scikit-Learn, Keras & TensorFlow** de *Aurélien Géron*;\n",
    "* **Understanding Deep Learning** de *Simon J.D. Prince*;\n",
    "* **Neural Networks and Learning Machines** de *Simon Haykin*.\n",
    "\n",
    "## Documentações:\n",
    "\n",
    "* https://scikit-learn.org/\n",
    "* https://www.tensorflow.org/?hl=pt-br\n",
    "* https://keras.io/api/"
   ]
  },
  {
   "cell_type": "code",
   "execution_count": 1,
   "id": "ea85dab6-55b2-4e43-92f2-99b23251f3d4",
   "metadata": {},
   "outputs": [],
   "source": [
    "# Importações relevantes:\n",
    "from sklearn.datasets import fetch_california_housing\n",
    "from sklearn.model_selection import train_test_split\n",
    "from sklearn.preprocessing import StandardScaler"
   ]
  },
  {
   "cell_type": "code",
   "execution_count": 2,
   "id": "a962e685-4ab6-4de9-bcb2-706730e8d9e0",
   "metadata": {},
   "outputs": [
    {
     "name": "stdout",
     "output_type": "stream",
     "text": [
      "2.10.0\n",
      "2.10.0\n"
     ]
    }
   ],
   "source": [
    "import tensorflow as tf\n",
    "from tensorflow import keras\n",
    "\n",
    "print(tf.__version__)\n",
    "print(keras.__version__)"
   ]
  },
  {
   "cell_type": "code",
   "execution_count": 43,
   "id": "157865a9-9bc9-497d-9299-6872d6fa4a66",
   "metadata": {},
   "outputs": [
    {
     "name": "stdout",
     "output_type": "stream",
     "text": [
      "2.2.2\n"
     ]
    }
   ],
   "source": [
    "# Biblioteca para Manipulação de dados:\n",
    "import pandas as pd\n",
    "import numpy as np\n",
    "from matplotlib import pyplot as plt\n",
    "print(pd.__version__)"
   ]
  },
  {
   "cell_type": "code",
   "execution_count": 3,
   "id": "8d92d8cb-bfe3-4e92-9ee7-d50e28927563",
   "metadata": {},
   "outputs": [
    {
     "data": {
      "text/plain": [
       "dict_keys(['data', 'target', 'frame', 'target_names', 'feature_names', 'DESCR'])"
      ]
     },
     "execution_count": 3,
     "metadata": {},
     "output_type": "execute_result"
    }
   ],
   "source": [
    "# Instanciando dados:\n",
    "housing = fetch_california_housing();housing.keys()"
   ]
  },
  {
   "cell_type": "code",
   "execution_count": 28,
   "id": "6df527f2-e156-43ad-a249-28dc24e7bf3d",
   "metadata": {},
   "outputs": [
    {
     "data": {
      "text/html": [
       "<div>\n",
       "<style scoped>\n",
       "    .dataframe tbody tr th:only-of-type {\n",
       "        vertical-align: middle;\n",
       "    }\n",
       "\n",
       "    .dataframe tbody tr th {\n",
       "        vertical-align: top;\n",
       "    }\n",
       "\n",
       "    .dataframe thead th {\n",
       "        text-align: right;\n",
       "    }\n",
       "</style>\n",
       "<table border=\"1\" class=\"dataframe\">\n",
       "  <thead>\n",
       "    <tr style=\"text-align: right;\">\n",
       "      <th></th>\n",
       "      <th>MedInc</th>\n",
       "      <th>HouseAge</th>\n",
       "      <th>AveRooms</th>\n",
       "      <th>AveBedrms</th>\n",
       "      <th>Population</th>\n",
       "      <th>AveOccup</th>\n",
       "      <th>Latitude</th>\n",
       "      <th>Longitude</th>\n",
       "      <th>MedHouseVal</th>\n",
       "    </tr>\n",
       "  </thead>\n",
       "  <tbody>\n",
       "    <tr>\n",
       "      <th>0</th>\n",
       "      <td>8.3252</td>\n",
       "      <td>41.0</td>\n",
       "      <td>6.984127</td>\n",
       "      <td>1.023810</td>\n",
       "      <td>322.0</td>\n",
       "      <td>2.555556</td>\n",
       "      <td>37.88</td>\n",
       "      <td>-122.23</td>\n",
       "      <td>4.526</td>\n",
       "    </tr>\n",
       "    <tr>\n",
       "      <th>1</th>\n",
       "      <td>8.3014</td>\n",
       "      <td>21.0</td>\n",
       "      <td>6.238137</td>\n",
       "      <td>0.971880</td>\n",
       "      <td>2401.0</td>\n",
       "      <td>2.109842</td>\n",
       "      <td>37.86</td>\n",
       "      <td>-122.22</td>\n",
       "      <td>3.585</td>\n",
       "    </tr>\n",
       "    <tr>\n",
       "      <th>2</th>\n",
       "      <td>7.2574</td>\n",
       "      <td>52.0</td>\n",
       "      <td>8.288136</td>\n",
       "      <td>1.073446</td>\n",
       "      <td>496.0</td>\n",
       "      <td>2.802260</td>\n",
       "      <td>37.85</td>\n",
       "      <td>-122.24</td>\n",
       "      <td>3.521</td>\n",
       "    </tr>\n",
       "    <tr>\n",
       "      <th>3</th>\n",
       "      <td>5.6431</td>\n",
       "      <td>52.0</td>\n",
       "      <td>5.817352</td>\n",
       "      <td>1.073059</td>\n",
       "      <td>558.0</td>\n",
       "      <td>2.547945</td>\n",
       "      <td>37.85</td>\n",
       "      <td>-122.25</td>\n",
       "      <td>3.413</td>\n",
       "    </tr>\n",
       "    <tr>\n",
       "      <th>4</th>\n",
       "      <td>3.8462</td>\n",
       "      <td>52.0</td>\n",
       "      <td>6.281853</td>\n",
       "      <td>1.081081</td>\n",
       "      <td>565.0</td>\n",
       "      <td>2.181467</td>\n",
       "      <td>37.85</td>\n",
       "      <td>-122.25</td>\n",
       "      <td>3.422</td>\n",
       "    </tr>\n",
       "    <tr>\n",
       "      <th>...</th>\n",
       "      <td>...</td>\n",
       "      <td>...</td>\n",
       "      <td>...</td>\n",
       "      <td>...</td>\n",
       "      <td>...</td>\n",
       "      <td>...</td>\n",
       "      <td>...</td>\n",
       "      <td>...</td>\n",
       "      <td>...</td>\n",
       "    </tr>\n",
       "    <tr>\n",
       "      <th>20635</th>\n",
       "      <td>1.5603</td>\n",
       "      <td>25.0</td>\n",
       "      <td>5.045455</td>\n",
       "      <td>1.133333</td>\n",
       "      <td>845.0</td>\n",
       "      <td>2.560606</td>\n",
       "      <td>39.48</td>\n",
       "      <td>-121.09</td>\n",
       "      <td>0.781</td>\n",
       "    </tr>\n",
       "    <tr>\n",
       "      <th>20636</th>\n",
       "      <td>2.5568</td>\n",
       "      <td>18.0</td>\n",
       "      <td>6.114035</td>\n",
       "      <td>1.315789</td>\n",
       "      <td>356.0</td>\n",
       "      <td>3.122807</td>\n",
       "      <td>39.49</td>\n",
       "      <td>-121.21</td>\n",
       "      <td>0.771</td>\n",
       "    </tr>\n",
       "    <tr>\n",
       "      <th>20637</th>\n",
       "      <td>1.7000</td>\n",
       "      <td>17.0</td>\n",
       "      <td>5.205543</td>\n",
       "      <td>1.120092</td>\n",
       "      <td>1007.0</td>\n",
       "      <td>2.325635</td>\n",
       "      <td>39.43</td>\n",
       "      <td>-121.22</td>\n",
       "      <td>0.923</td>\n",
       "    </tr>\n",
       "    <tr>\n",
       "      <th>20638</th>\n",
       "      <td>1.8672</td>\n",
       "      <td>18.0</td>\n",
       "      <td>5.329513</td>\n",
       "      <td>1.171920</td>\n",
       "      <td>741.0</td>\n",
       "      <td>2.123209</td>\n",
       "      <td>39.43</td>\n",
       "      <td>-121.32</td>\n",
       "      <td>0.847</td>\n",
       "    </tr>\n",
       "    <tr>\n",
       "      <th>20639</th>\n",
       "      <td>2.3886</td>\n",
       "      <td>16.0</td>\n",
       "      <td>5.254717</td>\n",
       "      <td>1.162264</td>\n",
       "      <td>1387.0</td>\n",
       "      <td>2.616981</td>\n",
       "      <td>39.37</td>\n",
       "      <td>-121.24</td>\n",
       "      <td>0.894</td>\n",
       "    </tr>\n",
       "  </tbody>\n",
       "</table>\n",
       "<p>20640 rows × 9 columns</p>\n",
       "</div>"
      ],
      "text/plain": [
       "       MedInc  HouseAge  AveRooms  AveBedrms  Population  AveOccup  Latitude  \\\n",
       "0      8.3252      41.0  6.984127   1.023810       322.0  2.555556     37.88   \n",
       "1      8.3014      21.0  6.238137   0.971880      2401.0  2.109842     37.86   \n",
       "2      7.2574      52.0  8.288136   1.073446       496.0  2.802260     37.85   \n",
       "3      5.6431      52.0  5.817352   1.073059       558.0  2.547945     37.85   \n",
       "4      3.8462      52.0  6.281853   1.081081       565.0  2.181467     37.85   \n",
       "...       ...       ...       ...        ...         ...       ...       ...   \n",
       "20635  1.5603      25.0  5.045455   1.133333       845.0  2.560606     39.48   \n",
       "20636  2.5568      18.0  6.114035   1.315789       356.0  3.122807     39.49   \n",
       "20637  1.7000      17.0  5.205543   1.120092      1007.0  2.325635     39.43   \n",
       "20638  1.8672      18.0  5.329513   1.171920       741.0  2.123209     39.43   \n",
       "20639  2.3886      16.0  5.254717   1.162264      1387.0  2.616981     39.37   \n",
       "\n",
       "       Longitude  MedHouseVal  \n",
       "0        -122.23        4.526  \n",
       "1        -122.22        3.585  \n",
       "2        -122.24        3.521  \n",
       "3        -122.25        3.413  \n",
       "4        -122.25        3.422  \n",
       "...          ...          ...  \n",
       "20635    -121.09        0.781  \n",
       "20636    -121.21        0.771  \n",
       "20637    -121.22        0.923  \n",
       "20638    -121.32        0.847  \n",
       "20639    -121.24        0.894  \n",
       "\n",
       "[20640 rows x 9 columns]"
      ]
     },
     "execution_count": 28,
     "metadata": {},
     "output_type": "execute_result"
    }
   ],
   "source": [
    "df = pd.concat([pd.DataFrame(housing.data, columns=housing.feature_names),\n",
    "           pd.DataFrame(housing.target, columns=housing.target_names)], axis=1); df"
   ]
  },
  {
   "cell_type": "code",
   "execution_count": 31,
   "id": "f61b5bcc-6ac9-48b4-91a4-b8b856053667",
   "metadata": {},
   "outputs": [
    {
     "data": {
      "text/html": [
       "<div>\n",
       "<style scoped>\n",
       "    .dataframe tbody tr th:only-of-type {\n",
       "        vertical-align: middle;\n",
       "    }\n",
       "\n",
       "    .dataframe tbody tr th {\n",
       "        vertical-align: top;\n",
       "    }\n",
       "\n",
       "    .dataframe thead th {\n",
       "        text-align: right;\n",
       "    }\n",
       "</style>\n",
       "<table border=\"1\" class=\"dataframe\">\n",
       "  <thead>\n",
       "    <tr style=\"text-align: right;\">\n",
       "      <th></th>\n",
       "      <th>MedInc</th>\n",
       "      <th>HouseAge</th>\n",
       "      <th>AveRooms</th>\n",
       "      <th>AveBedrms</th>\n",
       "      <th>Population</th>\n",
       "      <th>AveOccup</th>\n",
       "      <th>Latitude</th>\n",
       "      <th>Longitude</th>\n",
       "      <th>MedHouseVal</th>\n",
       "    </tr>\n",
       "  </thead>\n",
       "  <tbody>\n",
       "    <tr>\n",
       "      <th>count</th>\n",
       "      <td>20640.000000</td>\n",
       "      <td>20640.000000</td>\n",
       "      <td>20640.000000</td>\n",
       "      <td>20640.000000</td>\n",
       "      <td>20640.000000</td>\n",
       "      <td>20640.000000</td>\n",
       "      <td>20640.000000</td>\n",
       "      <td>20640.000000</td>\n",
       "      <td>20640.000000</td>\n",
       "    </tr>\n",
       "    <tr>\n",
       "      <th>mean</th>\n",
       "      <td>3.870671</td>\n",
       "      <td>28.639486</td>\n",
       "      <td>5.429000</td>\n",
       "      <td>1.096675</td>\n",
       "      <td>1425.476744</td>\n",
       "      <td>3.070655</td>\n",
       "      <td>35.631861</td>\n",
       "      <td>-119.569704</td>\n",
       "      <td>2.068558</td>\n",
       "    </tr>\n",
       "    <tr>\n",
       "      <th>std</th>\n",
       "      <td>1.899822</td>\n",
       "      <td>12.585558</td>\n",
       "      <td>2.474173</td>\n",
       "      <td>0.473911</td>\n",
       "      <td>1132.462122</td>\n",
       "      <td>10.386050</td>\n",
       "      <td>2.135952</td>\n",
       "      <td>2.003532</td>\n",
       "      <td>1.153956</td>\n",
       "    </tr>\n",
       "    <tr>\n",
       "      <th>min</th>\n",
       "      <td>0.499900</td>\n",
       "      <td>1.000000</td>\n",
       "      <td>0.846154</td>\n",
       "      <td>0.333333</td>\n",
       "      <td>3.000000</td>\n",
       "      <td>0.692308</td>\n",
       "      <td>32.540000</td>\n",
       "      <td>-124.350000</td>\n",
       "      <td>0.149990</td>\n",
       "    </tr>\n",
       "    <tr>\n",
       "      <th>25%</th>\n",
       "      <td>2.563400</td>\n",
       "      <td>18.000000</td>\n",
       "      <td>4.440716</td>\n",
       "      <td>1.006079</td>\n",
       "      <td>787.000000</td>\n",
       "      <td>2.429741</td>\n",
       "      <td>33.930000</td>\n",
       "      <td>-121.800000</td>\n",
       "      <td>1.196000</td>\n",
       "    </tr>\n",
       "    <tr>\n",
       "      <th>50%</th>\n",
       "      <td>3.534800</td>\n",
       "      <td>29.000000</td>\n",
       "      <td>5.229129</td>\n",
       "      <td>1.048780</td>\n",
       "      <td>1166.000000</td>\n",
       "      <td>2.818116</td>\n",
       "      <td>34.260000</td>\n",
       "      <td>-118.490000</td>\n",
       "      <td>1.797000</td>\n",
       "    </tr>\n",
       "    <tr>\n",
       "      <th>75%</th>\n",
       "      <td>4.743250</td>\n",
       "      <td>37.000000</td>\n",
       "      <td>6.052381</td>\n",
       "      <td>1.099526</td>\n",
       "      <td>1725.000000</td>\n",
       "      <td>3.282261</td>\n",
       "      <td>37.710000</td>\n",
       "      <td>-118.010000</td>\n",
       "      <td>2.647250</td>\n",
       "    </tr>\n",
       "    <tr>\n",
       "      <th>max</th>\n",
       "      <td>15.000100</td>\n",
       "      <td>52.000000</td>\n",
       "      <td>141.909091</td>\n",
       "      <td>34.066667</td>\n",
       "      <td>35682.000000</td>\n",
       "      <td>1243.333333</td>\n",
       "      <td>41.950000</td>\n",
       "      <td>-114.310000</td>\n",
       "      <td>5.000010</td>\n",
       "    </tr>\n",
       "  </tbody>\n",
       "</table>\n",
       "</div>"
      ],
      "text/plain": [
       "             MedInc      HouseAge      AveRooms     AveBedrms    Population  \\\n",
       "count  20640.000000  20640.000000  20640.000000  20640.000000  20640.000000   \n",
       "mean       3.870671     28.639486      5.429000      1.096675   1425.476744   \n",
       "std        1.899822     12.585558      2.474173      0.473911   1132.462122   \n",
       "min        0.499900      1.000000      0.846154      0.333333      3.000000   \n",
       "25%        2.563400     18.000000      4.440716      1.006079    787.000000   \n",
       "50%        3.534800     29.000000      5.229129      1.048780   1166.000000   \n",
       "75%        4.743250     37.000000      6.052381      1.099526   1725.000000   \n",
       "max       15.000100     52.000000    141.909091     34.066667  35682.000000   \n",
       "\n",
       "           AveOccup      Latitude     Longitude   MedHouseVal  \n",
       "count  20640.000000  20640.000000  20640.000000  20640.000000  \n",
       "mean       3.070655     35.631861   -119.569704      2.068558  \n",
       "std       10.386050      2.135952      2.003532      1.153956  \n",
       "min        0.692308     32.540000   -124.350000      0.149990  \n",
       "25%        2.429741     33.930000   -121.800000      1.196000  \n",
       "50%        2.818116     34.260000   -118.490000      1.797000  \n",
       "75%        3.282261     37.710000   -118.010000      2.647250  \n",
       "max     1243.333333     41.950000   -114.310000      5.000010  "
      ]
     },
     "execution_count": 31,
     "metadata": {},
     "output_type": "execute_result"
    }
   ],
   "source": [
    "# Estatisticas Descritivas dos dados:\n",
    "df.describe()"
   ]
  },
  {
   "cell_type": "code",
   "execution_count": 4,
   "id": "9f9898dc-8c34-4015-955a-379c6f4f800f",
   "metadata": {},
   "outputs": [],
   "source": [
    "# Gerando dados de teste:\n",
    "X_train_full, X_test, y_train_full, y_test = train_test_split(housing.data,\n",
    "                                                              housing.target\n",
    "                                                             ) # defaut: 25% -> teste\n",
    "\n",
    "# Subdividindo dados entre treino e validação:\n",
    "X_train, X_valid, y_train, y_valid = train_test_split(X_train_full,\n",
    "                                                      y_train_full\n",
    "                                                     ) # defaut: 25% -> validação"
   ]
  },
  {
   "cell_type": "markdown",
   "id": "990a8add-169e-4cfb-ab3a-0c25587f2dfd",
   "metadata": {},
   "source": [
    "# Preprocessamento dados dados:\n",
    "\n",
    "Dado que os dados já veem previamente tratados, sem `NaN` e demais problemas, essa etapa do processo é apenas para retirar a escala dos dados. Normalizar os dados tem suas vantagens:\n",
    "\n",
    "* **Aumenta a velocidade de Convergência:** Dados normalizados ajudam a acelerar o processo de treinamento, permitindo que o algoritmo de otimização (como o gradiente descendente) converja mais rapidamente. Isso ocorre porque os gradientes são mais estáveis e consistentes quando os dados estão em uma escala similar.\n",
    "  \n",
    "* **Melhora o desempenho do Modelo:** Redes neurais treinadas com dados normalizados tendem a ter um desempenho melhor. Isso ocorre porque a normalização ajuda a evitar que algumas características dominem outras, permitindo que a rede aprenda de forma mais equilibrada.\n",
    "  \n",
    "* **Evita problemas numéricos:** Dados em escalas muito diferentes podem causar problemas numéricos durante o treinamento, como estouros ou subfluxos. A normalização ajuda a mitigar esses problemas, garantindo que os valores estejam dentro de uma faixa manejável.\n",
    "  \n",
    "* **Facilita a interpretação dos pesos:** Quando os dados são normalizados, os pesos aprendidos pela rede neural podem ser mais facilmente interpretados, pois cada peso estará ajustando características que estão na mesma escala.\n",
    "  \n",
    "* **Regulariza:** A normalização pode atuar como uma forma de regularização, ajudando a prevenir o overfitting ao garantir que a rede não se ajuste excessivamente a características específicas com valores extremos.\n",
    "\n",
    "A escolha do método de padronização é importante. O método `StandardScaler()`, por padrão, trabalha a tradicional ideia da normalização para uma **normal padrão**, $Z \\sim N(0,1)$,\n",
    "\n",
    "$$Z \\sim \\frac{X-\\mu}{\\sigma}$$\n",
    "\n",
    "Ou seja, ele pressupõe que os dados de treino $X_i$ forma  possuem uma distribuição normal, tal que $X_i \\sim N(\\mu,\\sigma^2)$. Dado o **Teorema Central do Limite**, essas suposições são comuns, mas é sempre bom ter cuidado com as generalizações. Outro ponto importante é que o `StandardScaler` é **sensível a outliers**, e as características podem ser escaladas de maneira diferente na presença de outliers."
   ]
  },
  {
   "cell_type": "code",
   "execution_count": 5,
   "id": "22f9912c-9dff-48c4-b291-266087e623ab",
   "metadata": {},
   "outputs": [],
   "source": [
    "# Instanciando classe de Escalonamento:\n",
    "scaler = StandardScaler()\n",
    "\n",
    "# Reescalodando dados:\n",
    "X_train_scaled = scaler.fit_transform(X_train)\n",
    "X_valid_scaled = scaler.transform(X_valid)\n",
    "X_test_scaled = scaler.transform(X_test)"
   ]
  },
  {
   "cell_type": "markdown",
   "id": "c83edc5b-788e-4d38-877e-b4bd369e3d00",
   "metadata": {},
   "source": [
    "# Multilayer Perceptron para Regressão:\n",
    "\n",
    "A estrutura de uma rede para **regressão** é muito parecida com o caso de regressão, por óbvio, dodo que é o mesmo modelo, o que muda são as funções de ativação, sobretudo a função da última camada. Não faz sentido matemático fazer regressão com uma *softmax*.\n",
    "\n",
    "Na teoria, a mudança da função objetivo tem um impacto significativo na matemática da construção do modelo. Na prática, utilizando APIs e soluções prontas, essa mudança fica menos perceptivel, muitas vezes resumidas a mudança de configurações pontuais."
   ]
  },
  {
   "cell_type": "code",
   "execution_count": 6,
   "id": "16c6144f-9200-45a3-8582-cccafe63e41e",
   "metadata": {},
   "outputs": [],
   "source": [
    "# Instanciando Modelo:\n",
    "model = keras.models.Sequential([\n",
    "    keras.layers.Dense(30, activation=\"relu\", input_shape=X_train.shape[1:]),\n",
    "    keras.layers.Dense(1) # Saída\n",
    "])"
   ]
  },
  {
   "cell_type": "markdown",
   "id": "e6016fc0-ae73-49d2-b5fb-b471ee6cddd5",
   "metadata": {},
   "source": [
    "Note que não houve a necessidade de definir uma função de ativação."
   ]
  },
  {
   "cell_type": "code",
   "execution_count": 7,
   "id": "69015f25-7ac7-452c-80ab-f8e008874581",
   "metadata": {},
   "outputs": [],
   "source": [
    "# Configurando Função Objetivo e Otimizador:\n",
    "model.compile(loss=\"mean_squared_error\", # MSE: Soma dos erros normalizado pelos graus de liberdade\n",
    "              optimizer=\"sgd\" # Gradiente Descendente Estocástico: Aplicação da Regra de Fermat\n",
    "             )"
   ]
  },
  {
   "cell_type": "code",
   "execution_count": 8,
   "id": "e22ebb52-9c7e-46c1-b9e8-0d71247cdf44",
   "metadata": {
    "scrolled": true
   },
   "outputs": [
    {
     "name": "stdout",
     "output_type": "stream",
     "text": [
      "Epoch 1/20\n",
      "363/363 [==============================] - 1s 2ms/step - loss: 512161347213980120121344.0000 - val_loss: 23115745915305984.0000\n",
      "Epoch 2/20\n",
      "363/363 [==============================] - 0s 1ms/step - loss: 1608903204798464.0000 - val_loss: 9863661568.0000\n",
      "Epoch 3/20\n",
      "363/363 [==============================] - 0s 1ms/step - loss: 686531648.0000 - val_loss: 4201.3579\n",
      "Epoch 4/20\n",
      "363/363 [==============================] - 0s 1ms/step - loss: 294.0891 - val_loss: 1.3591\n",
      "Epoch 5/20\n",
      "363/363 [==============================] - 0s 1ms/step - loss: 1.3171 - val_loss: 1.3568\n",
      "Epoch 6/20\n",
      "363/363 [==============================] - 0s 1ms/step - loss: 1.3165 - val_loss: 1.3572\n",
      "Epoch 7/20\n",
      "363/363 [==============================] - 0s 1ms/step - loss: 1.3159 - val_loss: 1.3567\n",
      "Epoch 8/20\n",
      "363/363 [==============================] - 0s 1ms/step - loss: 1.3168 - val_loss: 1.3570\n",
      "Epoch 9/20\n",
      "363/363 [==============================] - 0s 1ms/step - loss: 1.3165 - val_loss: 1.3574\n",
      "Epoch 10/20\n",
      "363/363 [==============================] - 0s 1ms/step - loss: 1.3164 - val_loss: 1.3598\n",
      "Epoch 11/20\n",
      "363/363 [==============================] - 0s 1ms/step - loss: 1.3167 - val_loss: 1.3573\n",
      "Epoch 12/20\n",
      "363/363 [==============================] - 0s 1ms/step - loss: 1.3166 - val_loss: 1.3571\n",
      "Epoch 13/20\n",
      "363/363 [==============================] - 0s 1ms/step - loss: 1.3166 - val_loss: 1.3585\n",
      "Epoch 14/20\n",
      "363/363 [==============================] - 0s 1ms/step - loss: 1.3162 - val_loss: 1.3587\n",
      "Epoch 15/20\n",
      "363/363 [==============================] - 0s 1ms/step - loss: 1.3168 - val_loss: 1.3573\n",
      "Epoch 16/20\n",
      "363/363 [==============================] - 0s 1ms/step - loss: 1.3167 - val_loss: 1.3577\n",
      "Epoch 17/20\n",
      "363/363 [==============================] - 0s 1ms/step - loss: 1.3166 - val_loss: 1.3570\n",
      "Epoch 18/20\n",
      "363/363 [==============================] - 0s 1ms/step - loss: 1.3168 - val_loss: 1.3570\n",
      "Epoch 19/20\n",
      "363/363 [==============================] - 0s 1ms/step - loss: 1.3166 - val_loss: 1.3582\n",
      "Epoch 20/20\n",
      "363/363 [==============================] - 0s 1ms/step - loss: 1.3164 - val_loss: 1.3567\n"
     ]
    }
   ],
   "source": [
    "# Ajuste do Modelo:\n",
    "history = model.fit(X_train, y_train, epochs=20,\n",
    "                    validation_data = (X_valid, y_valid))"
   ]
  },
  {
   "cell_type": "code",
   "execution_count": 9,
   "id": "41c2bb26-81b6-442c-b77c-4677f655d893",
   "metadata": {},
   "outputs": [
    {
     "name": "stdout",
     "output_type": "stream",
     "text": [
      "162/162 [==============================] - 0s 841us/step - loss: 1.3482\n",
      "MSE de Teste: 1.3481899499893188\n"
     ]
    }
   ],
   "source": [
    "# Validação do Modelo:\n",
    "mse_test = model.evaluate(X_test, y_test)\n",
    "print(f\"MSE de Teste: {mse_test}\")"
   ]
  },
  {
   "cell_type": "markdown",
   "id": "7791ab2f-51fd-4e82-98d8-1d0ba96c4be5",
   "metadata": {},
   "source": [
    "# Análise Visual do Modelo:"
   ]
  },
  {
   "cell_type": "code",
   "execution_count": 45,
   "id": "6225c694-de94-4d24-b8ad-938f6c24ee4d",
   "metadata": {},
   "outputs": [],
   "source": [
    "from matplotlib import pyplot as plt\n",
    "import seaborn as sns"
   ]
  },
  {
   "cell_type": "code",
   "execution_count": 50,
   "id": "b40a7a68-8c4e-4881-9927-0c29a4c5f973",
   "metadata": {},
   "outputs": [
    {
     "name": "stdout",
     "output_type": "stream",
     "text": [
      "121/121 [==============================] - 0s 724us/step\n"
     ]
    }
   ],
   "source": [
    "y_pred = model.predict(X_valid)"
   ]
  },
  {
   "cell_type": "code",
   "execution_count": 53,
   "id": "b783348b-84b7-45c8-99bf-cdda28d37c9a",
   "metadata": {},
   "outputs": [
    {
     "data": {
      "text/plain": [
       "array([ 0.52817138,  0.35517138, -0.65482862, ..., -0.77782862,\n",
       "        2.08517138, -1.32082862])"
      ]
     },
     "execution_count": 53,
     "metadata": {},
     "output_type": "execute_result"
    }
   ],
   "source": [
    "# Resíduos:\n",
    "residuos = ((y_valid - y_pred.flatten())**2)/len(y_valid)\n",
    "\n",
    "indice = np.arange(len(y_valid))\n",
    "plt.scatter()"
   ]
  },
  {
   "cell_type": "markdown",
   "id": "596e72e9-f073-4d1d-a742-ffe28b6dde0f",
   "metadata": {},
   "source": [
    "# Avaliando Pesos e Viéses:"
   ]
  },
  {
   "cell_type": "code",
   "execution_count": 10,
   "id": "9a1ba837-c548-4196-96e0-991a78dc8fa7",
   "metadata": {},
   "outputs": [],
   "source": [
    "params = {}\n",
    "for i,layer in enumerate(model.layers):\n",
    "    pesos, biases = layer.get_weights()\n",
    "    params[f\"Camada_{i}\"] = {\"pesos\": pesos, \"vieses\": biases}"
   ]
  },
  {
   "cell_type": "code",
   "execution_count": 11,
   "id": "ef791c6e-a95e-4b58-b9e1-3745c14e1b1e",
   "metadata": {},
   "outputs": [
    {
     "data": {
      "text/plain": [
       "dict_keys(['Camada_0', 'Camada_1'])"
      ]
     },
     "execution_count": 11,
     "metadata": {},
     "output_type": "execute_result"
    }
   ],
   "source": [
    "# Camadas:\n",
    "params.keys()"
   ]
  },
  {
   "cell_type": "code",
   "execution_count": 41,
   "id": "b0b752f5-fe02-4eb7-8365-3c6684b331a6",
   "metadata": {},
   "outputs": [
    {
     "data": {
      "text/plain": [
       "(30,)"
      ]
     },
     "execution_count": 41,
     "metadata": {},
     "output_type": "execute_result"
    }
   ],
   "source": [
    "params[\"Camada_0\"][\"vieses\"].shape"
   ]
  },
  {
   "cell_type": "code",
   "execution_count": null,
   "id": "74009237-e905-4c4b-8795-61eabcfef30d",
   "metadata": {},
   "outputs": [],
   "source": []
  }
 ],
 "metadata": {
  "kernelspec": {
   "display_name": "Python 3 (ipykernel)",
   "language": "python",
   "name": "python3"
  },
  "language_info": {
   "codemirror_mode": {
    "name": "ipython",
    "version": 3
   },
   "file_extension": ".py",
   "mimetype": "text/x-python",
   "name": "python",
   "nbconvert_exporter": "python",
   "pygments_lexer": "ipython3",
   "version": "3.10.13"
  }
 },
 "nbformat": 4,
 "nbformat_minor": 5
}
