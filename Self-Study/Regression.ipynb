{
 "cells": [
  {
   "cell_type": "markdown",
   "id": "98b067ee-54b4-4004-9562-8d79a36f9c94",
   "metadata": {},
   "source": [
    "# Apresentação:\n",
    "\n",
    "O objetivo desse código é avançar nos estudos de **Redes Neurais** e **Deep Learning** agora no universo de **Regressão**, ou seja, problemas de predição quando $y$ está no **contínuo**, tal que $y \\in \\mathbb{R}$.\n",
    "\n",
    "## Conjunto de Dados:\n",
    "\n",
    "Para esse estudo, o conjunto de dados utilizados será o [*fetch california housing*](https://scikit-learn.org/stable/modules/generated/sklearn.datasets.fetch_california_housing.html), uma simplificação do California Housing que contém apenas características numéricas (não há característica `ocean_proximity`) e não há valores ausentes.\n",
    "\n",
    "## Material Base:\n",
    "\n",
    "* **Hands On Machine Learning with Scikit-Learn, Keras & TensorFlow** de *Aurélien Géron*;\n",
    "* **Understanding Deep Learning** de *Simon J.D. Prince*;\n",
    "* **Neural Networks and Learning Machines** de *Simon Haykin*.\n",
    "\n",
    "## Documentações:\n",
    "\n",
    "* https://scikit-learn.org/\n",
    "* https://www.tensorflow.org/?hl=pt-br\n",
    "* https://keras.io/api/"
   ]
  },
  {
   "cell_type": "code",
   "execution_count": 2,
   "id": "ea85dab6-55b2-4e43-92f2-99b23251f3d4",
   "metadata": {},
   "outputs": [],
   "source": [
    "# Importações relevantes:\n",
    "from sklearn.datasets import fetch_california_housing\n",
    "from sklearn.model_selection import train_test_split\n",
    "from sklearn.preprocessing import StandardScaler"
   ]
  },
  {
   "cell_type": "code",
   "execution_count": 3,
   "id": "a962e685-4ab6-4de9-bcb2-706730e8d9e0",
   "metadata": {},
   "outputs": [
    {
     "name": "stdout",
     "output_type": "stream",
     "text": [
      "2.10.0\n",
      "2.10.0\n"
     ]
    }
   ],
   "source": [
    "import tensorflow as tf\n",
    "from tensorflow import keras\n",
    "\n",
    "print(tf.__version__)\n",
    "print(keras.__version__)"
   ]
  },
  {
   "cell_type": "code",
   "execution_count": 4,
   "id": "157865a9-9bc9-497d-9299-6872d6fa4a66",
   "metadata": {},
   "outputs": [
    {
     "name": "stdout",
     "output_type": "stream",
     "text": [
      "2.1.4\n"
     ]
    }
   ],
   "source": [
    "# Biblioteca para Manipulação de dados:\n",
    "import pandas as pd\n",
    "import numpy as np\n",
    "from matplotlib import pyplot as plt\n",
    "print(pd.__version__)"
   ]
  },
  {
   "cell_type": "code",
   "execution_count": 5,
   "id": "8d92d8cb-bfe3-4e92-9ee7-d50e28927563",
   "metadata": {},
   "outputs": [
    {
     "data": {
      "text/plain": [
       "dict_keys(['data', 'target', 'frame', 'target_names', 'feature_names', 'DESCR'])"
      ]
     },
     "execution_count": 5,
     "metadata": {},
     "output_type": "execute_result"
    }
   ],
   "source": [
    "# Instanciando dados:\n",
    "housing = fetch_california_housing();housing.keys()"
   ]
  },
  {
   "cell_type": "code",
   "execution_count": 6,
   "id": "6df527f2-e156-43ad-a249-28dc24e7bf3d",
   "metadata": {},
   "outputs": [
    {
     "data": {
      "text/html": [
       "<div>\n",
       "<style scoped>\n",
       "    .dataframe tbody tr th:only-of-type {\n",
       "        vertical-align: middle;\n",
       "    }\n",
       "\n",
       "    .dataframe tbody tr th {\n",
       "        vertical-align: top;\n",
       "    }\n",
       "\n",
       "    .dataframe thead th {\n",
       "        text-align: right;\n",
       "    }\n",
       "</style>\n",
       "<table border=\"1\" class=\"dataframe\">\n",
       "  <thead>\n",
       "    <tr style=\"text-align: right;\">\n",
       "      <th></th>\n",
       "      <th>MedInc</th>\n",
       "      <th>HouseAge</th>\n",
       "      <th>AveRooms</th>\n",
       "      <th>AveBedrms</th>\n",
       "      <th>Population</th>\n",
       "      <th>AveOccup</th>\n",
       "      <th>Latitude</th>\n",
       "      <th>Longitude</th>\n",
       "      <th>MedHouseVal</th>\n",
       "    </tr>\n",
       "  </thead>\n",
       "  <tbody>\n",
       "    <tr>\n",
       "      <th>0</th>\n",
       "      <td>8.3252</td>\n",
       "      <td>41.0</td>\n",
       "      <td>6.984127</td>\n",
       "      <td>1.023810</td>\n",
       "      <td>322.0</td>\n",
       "      <td>2.555556</td>\n",
       "      <td>37.88</td>\n",
       "      <td>-122.23</td>\n",
       "      <td>4.526</td>\n",
       "    </tr>\n",
       "    <tr>\n",
       "      <th>1</th>\n",
       "      <td>8.3014</td>\n",
       "      <td>21.0</td>\n",
       "      <td>6.238137</td>\n",
       "      <td>0.971880</td>\n",
       "      <td>2401.0</td>\n",
       "      <td>2.109842</td>\n",
       "      <td>37.86</td>\n",
       "      <td>-122.22</td>\n",
       "      <td>3.585</td>\n",
       "    </tr>\n",
       "    <tr>\n",
       "      <th>2</th>\n",
       "      <td>7.2574</td>\n",
       "      <td>52.0</td>\n",
       "      <td>8.288136</td>\n",
       "      <td>1.073446</td>\n",
       "      <td>496.0</td>\n",
       "      <td>2.802260</td>\n",
       "      <td>37.85</td>\n",
       "      <td>-122.24</td>\n",
       "      <td>3.521</td>\n",
       "    </tr>\n",
       "    <tr>\n",
       "      <th>3</th>\n",
       "      <td>5.6431</td>\n",
       "      <td>52.0</td>\n",
       "      <td>5.817352</td>\n",
       "      <td>1.073059</td>\n",
       "      <td>558.0</td>\n",
       "      <td>2.547945</td>\n",
       "      <td>37.85</td>\n",
       "      <td>-122.25</td>\n",
       "      <td>3.413</td>\n",
       "    </tr>\n",
       "    <tr>\n",
       "      <th>4</th>\n",
       "      <td>3.8462</td>\n",
       "      <td>52.0</td>\n",
       "      <td>6.281853</td>\n",
       "      <td>1.081081</td>\n",
       "      <td>565.0</td>\n",
       "      <td>2.181467</td>\n",
       "      <td>37.85</td>\n",
       "      <td>-122.25</td>\n",
       "      <td>3.422</td>\n",
       "    </tr>\n",
       "    <tr>\n",
       "      <th>...</th>\n",
       "      <td>...</td>\n",
       "      <td>...</td>\n",
       "      <td>...</td>\n",
       "      <td>...</td>\n",
       "      <td>...</td>\n",
       "      <td>...</td>\n",
       "      <td>...</td>\n",
       "      <td>...</td>\n",
       "      <td>...</td>\n",
       "    </tr>\n",
       "    <tr>\n",
       "      <th>20635</th>\n",
       "      <td>1.5603</td>\n",
       "      <td>25.0</td>\n",
       "      <td>5.045455</td>\n",
       "      <td>1.133333</td>\n",
       "      <td>845.0</td>\n",
       "      <td>2.560606</td>\n",
       "      <td>39.48</td>\n",
       "      <td>-121.09</td>\n",
       "      <td>0.781</td>\n",
       "    </tr>\n",
       "    <tr>\n",
       "      <th>20636</th>\n",
       "      <td>2.5568</td>\n",
       "      <td>18.0</td>\n",
       "      <td>6.114035</td>\n",
       "      <td>1.315789</td>\n",
       "      <td>356.0</td>\n",
       "      <td>3.122807</td>\n",
       "      <td>39.49</td>\n",
       "      <td>-121.21</td>\n",
       "      <td>0.771</td>\n",
       "    </tr>\n",
       "    <tr>\n",
       "      <th>20637</th>\n",
       "      <td>1.7000</td>\n",
       "      <td>17.0</td>\n",
       "      <td>5.205543</td>\n",
       "      <td>1.120092</td>\n",
       "      <td>1007.0</td>\n",
       "      <td>2.325635</td>\n",
       "      <td>39.43</td>\n",
       "      <td>-121.22</td>\n",
       "      <td>0.923</td>\n",
       "    </tr>\n",
       "    <tr>\n",
       "      <th>20638</th>\n",
       "      <td>1.8672</td>\n",
       "      <td>18.0</td>\n",
       "      <td>5.329513</td>\n",
       "      <td>1.171920</td>\n",
       "      <td>741.0</td>\n",
       "      <td>2.123209</td>\n",
       "      <td>39.43</td>\n",
       "      <td>-121.32</td>\n",
       "      <td>0.847</td>\n",
       "    </tr>\n",
       "    <tr>\n",
       "      <th>20639</th>\n",
       "      <td>2.3886</td>\n",
       "      <td>16.0</td>\n",
       "      <td>5.254717</td>\n",
       "      <td>1.162264</td>\n",
       "      <td>1387.0</td>\n",
       "      <td>2.616981</td>\n",
       "      <td>39.37</td>\n",
       "      <td>-121.24</td>\n",
       "      <td>0.894</td>\n",
       "    </tr>\n",
       "  </tbody>\n",
       "</table>\n",
       "<p>20640 rows × 9 columns</p>\n",
       "</div>"
      ],
      "text/plain": [
       "       MedInc  HouseAge  AveRooms  AveBedrms  Population  AveOccup  Latitude  \\\n",
       "0      8.3252      41.0  6.984127   1.023810       322.0  2.555556     37.88   \n",
       "1      8.3014      21.0  6.238137   0.971880      2401.0  2.109842     37.86   \n",
       "2      7.2574      52.0  8.288136   1.073446       496.0  2.802260     37.85   \n",
       "3      5.6431      52.0  5.817352   1.073059       558.0  2.547945     37.85   \n",
       "4      3.8462      52.0  6.281853   1.081081       565.0  2.181467     37.85   \n",
       "...       ...       ...       ...        ...         ...       ...       ...   \n",
       "20635  1.5603      25.0  5.045455   1.133333       845.0  2.560606     39.48   \n",
       "20636  2.5568      18.0  6.114035   1.315789       356.0  3.122807     39.49   \n",
       "20637  1.7000      17.0  5.205543   1.120092      1007.0  2.325635     39.43   \n",
       "20638  1.8672      18.0  5.329513   1.171920       741.0  2.123209     39.43   \n",
       "20639  2.3886      16.0  5.254717   1.162264      1387.0  2.616981     39.37   \n",
       "\n",
       "       Longitude  MedHouseVal  \n",
       "0        -122.23        4.526  \n",
       "1        -122.22        3.585  \n",
       "2        -122.24        3.521  \n",
       "3        -122.25        3.413  \n",
       "4        -122.25        3.422  \n",
       "...          ...          ...  \n",
       "20635    -121.09        0.781  \n",
       "20636    -121.21        0.771  \n",
       "20637    -121.22        0.923  \n",
       "20638    -121.32        0.847  \n",
       "20639    -121.24        0.894  \n",
       "\n",
       "[20640 rows x 9 columns]"
      ]
     },
     "execution_count": 6,
     "metadata": {},
     "output_type": "execute_result"
    }
   ],
   "source": [
    "df = pd.concat([pd.DataFrame(housing.data, columns=housing.feature_names),\n",
    "           pd.DataFrame(housing.target, columns=housing.target_names)], axis=1); df"
   ]
  },
  {
   "cell_type": "code",
   "execution_count": 7,
   "id": "f61b5bcc-6ac9-48b4-91a4-b8b856053667",
   "metadata": {},
   "outputs": [
    {
     "data": {
      "text/html": [
       "<div>\n",
       "<style scoped>\n",
       "    .dataframe tbody tr th:only-of-type {\n",
       "        vertical-align: middle;\n",
       "    }\n",
       "\n",
       "    .dataframe tbody tr th {\n",
       "        vertical-align: top;\n",
       "    }\n",
       "\n",
       "    .dataframe thead th {\n",
       "        text-align: right;\n",
       "    }\n",
       "</style>\n",
       "<table border=\"1\" class=\"dataframe\">\n",
       "  <thead>\n",
       "    <tr style=\"text-align: right;\">\n",
       "      <th></th>\n",
       "      <th>MedInc</th>\n",
       "      <th>HouseAge</th>\n",
       "      <th>AveRooms</th>\n",
       "      <th>AveBedrms</th>\n",
       "      <th>Population</th>\n",
       "      <th>AveOccup</th>\n",
       "      <th>Latitude</th>\n",
       "      <th>Longitude</th>\n",
       "      <th>MedHouseVal</th>\n",
       "    </tr>\n",
       "  </thead>\n",
       "  <tbody>\n",
       "    <tr>\n",
       "      <th>count</th>\n",
       "      <td>20640.000000</td>\n",
       "      <td>20640.000000</td>\n",
       "      <td>20640.000000</td>\n",
       "      <td>20640.000000</td>\n",
       "      <td>20640.000000</td>\n",
       "      <td>20640.000000</td>\n",
       "      <td>20640.000000</td>\n",
       "      <td>20640.000000</td>\n",
       "      <td>20640.000000</td>\n",
       "    </tr>\n",
       "    <tr>\n",
       "      <th>mean</th>\n",
       "      <td>3.870671</td>\n",
       "      <td>28.639486</td>\n",
       "      <td>5.429000</td>\n",
       "      <td>1.096675</td>\n",
       "      <td>1425.476744</td>\n",
       "      <td>3.070655</td>\n",
       "      <td>35.631861</td>\n",
       "      <td>-119.569704</td>\n",
       "      <td>2.068558</td>\n",
       "    </tr>\n",
       "    <tr>\n",
       "      <th>std</th>\n",
       "      <td>1.899822</td>\n",
       "      <td>12.585558</td>\n",
       "      <td>2.474173</td>\n",
       "      <td>0.473911</td>\n",
       "      <td>1132.462122</td>\n",
       "      <td>10.386050</td>\n",
       "      <td>2.135952</td>\n",
       "      <td>2.003532</td>\n",
       "      <td>1.153956</td>\n",
       "    </tr>\n",
       "    <tr>\n",
       "      <th>min</th>\n",
       "      <td>0.499900</td>\n",
       "      <td>1.000000</td>\n",
       "      <td>0.846154</td>\n",
       "      <td>0.333333</td>\n",
       "      <td>3.000000</td>\n",
       "      <td>0.692308</td>\n",
       "      <td>32.540000</td>\n",
       "      <td>-124.350000</td>\n",
       "      <td>0.149990</td>\n",
       "    </tr>\n",
       "    <tr>\n",
       "      <th>25%</th>\n",
       "      <td>2.563400</td>\n",
       "      <td>18.000000</td>\n",
       "      <td>4.440716</td>\n",
       "      <td>1.006079</td>\n",
       "      <td>787.000000</td>\n",
       "      <td>2.429741</td>\n",
       "      <td>33.930000</td>\n",
       "      <td>-121.800000</td>\n",
       "      <td>1.196000</td>\n",
       "    </tr>\n",
       "    <tr>\n",
       "      <th>50%</th>\n",
       "      <td>3.534800</td>\n",
       "      <td>29.000000</td>\n",
       "      <td>5.229129</td>\n",
       "      <td>1.048780</td>\n",
       "      <td>1166.000000</td>\n",
       "      <td>2.818116</td>\n",
       "      <td>34.260000</td>\n",
       "      <td>-118.490000</td>\n",
       "      <td>1.797000</td>\n",
       "    </tr>\n",
       "    <tr>\n",
       "      <th>75%</th>\n",
       "      <td>4.743250</td>\n",
       "      <td>37.000000</td>\n",
       "      <td>6.052381</td>\n",
       "      <td>1.099526</td>\n",
       "      <td>1725.000000</td>\n",
       "      <td>3.282261</td>\n",
       "      <td>37.710000</td>\n",
       "      <td>-118.010000</td>\n",
       "      <td>2.647250</td>\n",
       "    </tr>\n",
       "    <tr>\n",
       "      <th>max</th>\n",
       "      <td>15.000100</td>\n",
       "      <td>52.000000</td>\n",
       "      <td>141.909091</td>\n",
       "      <td>34.066667</td>\n",
       "      <td>35682.000000</td>\n",
       "      <td>1243.333333</td>\n",
       "      <td>41.950000</td>\n",
       "      <td>-114.310000</td>\n",
       "      <td>5.000010</td>\n",
       "    </tr>\n",
       "  </tbody>\n",
       "</table>\n",
       "</div>"
      ],
      "text/plain": [
       "             MedInc      HouseAge      AveRooms     AveBedrms    Population  \\\n",
       "count  20640.000000  20640.000000  20640.000000  20640.000000  20640.000000   \n",
       "mean       3.870671     28.639486      5.429000      1.096675   1425.476744   \n",
       "std        1.899822     12.585558      2.474173      0.473911   1132.462122   \n",
       "min        0.499900      1.000000      0.846154      0.333333      3.000000   \n",
       "25%        2.563400     18.000000      4.440716      1.006079    787.000000   \n",
       "50%        3.534800     29.000000      5.229129      1.048780   1166.000000   \n",
       "75%        4.743250     37.000000      6.052381      1.099526   1725.000000   \n",
       "max       15.000100     52.000000    141.909091     34.066667  35682.000000   \n",
       "\n",
       "           AveOccup      Latitude     Longitude   MedHouseVal  \n",
       "count  20640.000000  20640.000000  20640.000000  20640.000000  \n",
       "mean       3.070655     35.631861   -119.569704      2.068558  \n",
       "std       10.386050      2.135952      2.003532      1.153956  \n",
       "min        0.692308     32.540000   -124.350000      0.149990  \n",
       "25%        2.429741     33.930000   -121.800000      1.196000  \n",
       "50%        2.818116     34.260000   -118.490000      1.797000  \n",
       "75%        3.282261     37.710000   -118.010000      2.647250  \n",
       "max     1243.333333     41.950000   -114.310000      5.000010  "
      ]
     },
     "execution_count": 7,
     "metadata": {},
     "output_type": "execute_result"
    }
   ],
   "source": [
    "# Estatisticas Descritivas dos dados:\n",
    "df.describe()"
   ]
  },
  {
   "cell_type": "code",
   "execution_count": 8,
   "id": "9f9898dc-8c34-4015-955a-379c6f4f800f",
   "metadata": {},
   "outputs": [],
   "source": [
    "# Gerando dados de teste:\n",
    "X_train_full, X_test, y_train_full, y_test = train_test_split(housing.data,\n",
    "                                                              housing.target\n",
    "                                                             ) # defaut: 25% -> teste\n",
    "\n",
    "# Subdividindo dados entre treino e validação:\n",
    "X_train, X_valid, y_train, y_valid = train_test_split(X_train_full,\n",
    "                                                      y_train_full\n",
    "                                                     ) # defaut: 25% -> validação"
   ]
  },
  {
   "cell_type": "markdown",
   "id": "990a8add-169e-4cfb-ab3a-0c25587f2dfd",
   "metadata": {},
   "source": [
    "# Preprocessamento dados dados:\n",
    "\n",
    "Dado que os dados já veem previamente tratados, sem `NaN` e demais problemas, essa etapa do processo é apenas para retirar a escala dos dados. Normalizar os dados tem suas vantagens:\n",
    "\n",
    "* **Aumenta a velocidade de Convergência:** Dados normalizados ajudam a acelerar o processo de treinamento, permitindo que o algoritmo de otimização (como o gradiente descendente) converja mais rapidamente. Isso ocorre porque os gradientes são mais estáveis e consistentes quando os dados estão em uma escala similar.\n",
    "  \n",
    "* **Melhora o desempenho do Modelo:** Redes neurais treinadas com dados normalizados tendem a ter um desempenho melhor. Isso ocorre porque a normalização ajuda a evitar que algumas características dominem outras, permitindo que a rede aprenda de forma mais equilibrada.\n",
    "  \n",
    "* **Evita problemas numéricos:** Dados em escalas muito diferentes podem causar problemas numéricos durante o treinamento, como estouros ou subfluxos. A normalização ajuda a mitigar esses problemas, garantindo que os valores estejam dentro de uma faixa manejável.\n",
    "  \n",
    "* **Facilita a interpretação dos pesos:** Quando os dados são normalizados, os pesos aprendidos pela rede neural podem ser mais facilmente interpretados, pois cada peso estará ajustando características que estão na mesma escala.\n",
    "  \n",
    "* **Regulariza:** A normalização pode atuar como uma forma de regularização, ajudando a prevenir o overfitting ao garantir que a rede não se ajuste excessivamente a características específicas com valores extremos.\n",
    "\n",
    "A escolha do método de padronização é importante. O método `StandardScaler()`, por padrão, trabalha a tradicional ideia da normalização para uma **normal padrão**, $Z \\sim N(0,1)$,\n",
    "\n",
    "$$Z \\sim \\frac{X-\\mu}{\\sigma}$$\n",
    "\n",
    "Ou seja, ele pressupõe que os dados de treino $X_i$ forma  possuem uma distribuição normal, tal que $X_i \\sim N(\\mu,\\sigma^2)$. Dado o **Teorema Central do Limite**, essas suposições são comuns, mas é sempre bom ter cuidado com as generalizações. Outro ponto importante é que o `StandardScaler` é **sensível a outliers**, e as características podem ser escaladas de maneira diferente na presença de outliers."
   ]
  },
  {
   "cell_type": "code",
   "execution_count": 9,
   "id": "22f9912c-9dff-48c4-b291-266087e623ab",
   "metadata": {},
   "outputs": [],
   "source": [
    "# Instanciando classe de Escalonamento:\n",
    "scaler = StandardScaler()\n",
    "\n",
    "# Reescalodando dados:\n",
    "X_train_scaled = scaler.fit_transform(X_train)\n",
    "X_valid_scaled = scaler.transform(X_valid)\n",
    "X_test_scaled = scaler.transform(X_test)"
   ]
  },
  {
   "cell_type": "markdown",
   "id": "c83edc5b-788e-4d38-877e-b4bd369e3d00",
   "metadata": {},
   "source": [
    "# Multilayer Perceptron para Regressão:\n",
    "\n",
    "A estrutura de uma rede para **regressão** é muito parecida com o caso de regressão, por óbvio, dodo que é o mesmo modelo, o que muda são as funções de ativação, sobretudo a função da última camada. Não faz sentido matemático fazer regressão com uma *softmax*.\n",
    "\n",
    "Na teoria, a mudança da função objetivo tem um impacto significativo na matemática da construção do modelo. Na prática, utilizando APIs e soluções prontas, essa mudança fica menos perceptivel, muitas vezes resumidas a mudança de configurações pontuais."
   ]
  },
  {
   "cell_type": "code",
   "execution_count": 10,
   "id": "16c6144f-9200-45a3-8582-cccafe63e41e",
   "metadata": {},
   "outputs": [],
   "source": [
    "# Instanciando Modelo:\n",
    "model = keras.models.Sequential([\n",
    "    keras.layers.Dense(30, activation=\"relu\", input_shape=X_train.shape[1:]),\n",
    "    keras.layers.Dense(1) # Saída\n",
    "])"
   ]
  },
  {
   "cell_type": "markdown",
   "id": "e6016fc0-ae73-49d2-b5fb-b471ee6cddd5",
   "metadata": {},
   "source": [
    "Note que não houve a necessidade de definir uma função de ativação."
   ]
  },
  {
   "cell_type": "code",
   "execution_count": 11,
   "id": "69015f25-7ac7-452c-80ab-f8e008874581",
   "metadata": {},
   "outputs": [],
   "source": [
    "# Configurando Função Objetivo e Otimizador:\n",
    "model.compile(loss=\"mean_squared_error\", # MSE: Soma dos erros normalizado pelos graus de liberdade\n",
    "              optimizer=\"sgd\" # Gradiente Descendente Estocástico: Aplicação da Regra de Fermat\n",
    "             )"
   ]
  },
  {
   "cell_type": "code",
   "execution_count": 12,
   "id": "e22ebb52-9c7e-46c1-b9e8-0d71247cdf44",
   "metadata": {
    "scrolled": true
   },
   "outputs": [
    {
     "name": "stdout",
     "output_type": "stream",
     "text": [
      "Epoch 1/20\n",
      "363/363 [==============================] - 1s 2ms/step - loss: inf - val_loss: 6986356338537286217578315776.0000\n",
      "Epoch 2/20\n",
      "363/363 [==============================] - 1s 1ms/step - loss: 486264474817816949895987200.0000 - val_loss: 2981134410914832842752.0000\n",
      "Epoch 3/20\n",
      "363/363 [==============================] - 1s 1ms/step - loss: 207493553983468863488.0000 - val_loss: 1272075629101056.0000\n",
      "Epoch 4/20\n",
      "363/363 [==============================] - 0s 1ms/step - loss: 88539148582912.0000 - val_loss: 542804288.0000\n",
      "Epoch 5/20\n",
      "363/363 [==============================] - 0s 1ms/step - loss: 37780300.0000 - val_loss: 232.3952\n",
      "Epoch 6/20\n",
      "363/363 [==============================] - 1s 1ms/step - loss: 17.3719 - val_loss: 1.2891\n",
      "Epoch 7/20\n",
      "363/363 [==============================] - 1s 1ms/step - loss: 1.3357 - val_loss: 1.2889\n",
      "Epoch 8/20\n",
      "363/363 [==============================] - 0s 1ms/step - loss: 1.3356 - val_loss: 1.2889\n",
      "Epoch 9/20\n",
      "363/363 [==============================] - 0s 1ms/step - loss: 1.3359 - val_loss: 1.2889\n",
      "Epoch 10/20\n",
      "363/363 [==============================] - 0s 1ms/step - loss: 1.3360 - val_loss: 1.2890\n",
      "Epoch 11/20\n",
      "363/363 [==============================] - 0s 1ms/step - loss: 1.3359 - val_loss: 1.2889\n",
      "Epoch 12/20\n",
      "363/363 [==============================] - 1s 1ms/step - loss: 1.3358 - val_loss: 1.2891\n",
      "Epoch 13/20\n",
      "363/363 [==============================] - 0s 1ms/step - loss: 1.3358 - val_loss: 1.2889\n",
      "Epoch 14/20\n",
      "363/363 [==============================] - 1s 2ms/step - loss: 1.3358 - val_loss: 1.2890\n",
      "Epoch 15/20\n",
      "363/363 [==============================] - 1s 2ms/step - loss: 1.3356 - val_loss: 1.2898\n",
      "Epoch 16/20\n",
      "363/363 [==============================] - 1s 1ms/step - loss: 1.3355 - val_loss: 1.2897\n",
      "Epoch 17/20\n",
      "363/363 [==============================] - 1s 2ms/step - loss: 1.3358 - val_loss: 1.2889\n",
      "Epoch 18/20\n",
      "363/363 [==============================] - 1s 2ms/step - loss: 1.3358 - val_loss: 1.2892\n",
      "Epoch 19/20\n",
      "363/363 [==============================] - 1s 1ms/step - loss: 1.3359 - val_loss: 1.2890\n",
      "Epoch 20/20\n",
      "363/363 [==============================] - 1s 1ms/step - loss: 1.3356 - val_loss: 1.2893\n"
     ]
    }
   ],
   "source": [
    "# Ajuste do Modelo:\n",
    "history = model.fit(X_train, y_train, epochs=20,\n",
    "                    validation_data = (X_valid, y_valid))"
   ]
  },
  {
   "cell_type": "code",
   "execution_count": 13,
   "id": "41c2bb26-81b6-442c-b77c-4677f655d893",
   "metadata": {},
   "outputs": [
    {
     "name": "stdout",
     "output_type": "stream",
     "text": [
      "162/162 [==============================] - 0s 949us/step - loss: 1.3595\n",
      "MSE de Teste: 1.3595330715179443\n"
     ]
    }
   ],
   "source": [
    "# Validação do Modelo:\n",
    "mse_test = model.evaluate(X_test, y_test)\n",
    "print(f\"MSE de Teste: {mse_test}\")"
   ]
  },
  {
   "cell_type": "markdown",
   "id": "7791ab2f-51fd-4e82-98d8-1d0ba96c4be5",
   "metadata": {},
   "source": [
    "# Análise Visual do Modelo:"
   ]
  },
  {
   "cell_type": "code",
   "execution_count": 14,
   "id": "6225c694-de94-4d24-b8ad-938f6c24ee4d",
   "metadata": {},
   "outputs": [],
   "source": [
    "from matplotlib import pyplot as plt\n",
    "import seaborn as sns"
   ]
  },
  {
   "cell_type": "code",
   "execution_count": 15,
   "id": "b40a7a68-8c4e-4881-9927-0c29a4c5f973",
   "metadata": {},
   "outputs": [
    {
     "name": "stdout",
     "output_type": "stream",
     "text": [
      "121/121 [==============================] - 0s 2ms/step\n"
     ]
    }
   ],
   "source": [
    "y_pred = model.predict(X_valid)"
   ]
  },
  {
   "cell_type": "code",
   "execution_count": 36,
   "id": "088d97b1-ac95-4574-9191-52a26608807d",
   "metadata": {},
   "outputs": [
    {
     "name": "stdout",
     "output_type": "stream",
     "text": [
      "162/162 [==============================] - 0s 869us/step\n",
      "R² no conjunto de teste: -0.00367574877396315\n"
     ]
    }
   ],
   "source": [
    "from sklearn.metrics import r2_score\n",
    "\n",
    "# Calcule o R²\n",
    "y_pred_test = model.predict(X_test)\n",
    "r2 = r2_score(y_test, y_pred_test)\n",
    "print(\"R² no conjunto de teste:\", r2)"
   ]
  },
  {
   "cell_type": "code",
   "execution_count": 37,
   "id": "b783348b-84b7-45c8-99bf-cdda28d37c9a",
   "metadata": {},
   "outputs": [
    {
     "data": {
      "image/png": "[encoded data removed]",
      "text/plain": [
       "<Figure size 640x480 with 1 Axes>"
      ]
     },
     "metadata": {},
     "output_type": "display_data"
    }
   ],
   "source": [
    "# Resíduos:\n",
    "residuos = ((y_valid - y_pred.flatten())**2)/len(y_valid)\n",
    "\n",
    "indice = np.arange(len(y_valid))\n",
    "plt.scatter(indice,residuos);"
   ]
  },
  {
   "cell_type": "markdown",
   "id": "7788940c-7af6-436b-bd89-0484ef405f19",
   "metadata": {},
   "source": [
    "**Conclusão**\n",
    "\n",
    "Vemos que claramento, o modelo não ficou muito bom... Note que a construção do modelo não é um processo fácil. Fica então esse resultado **errático**, para demonstrar como é complexo a construção de um modelo."
   ]
  },
  {
   "cell_type": "markdown",
   "id": "596e72e9-f073-4d1d-a742-ffe28b6dde0f",
   "metadata": {},
   "source": [
    "# Avaliando Pesos e Viéses:"
   ]
  },
  {
   "cell_type": "code",
   "execution_count": 19,
   "id": "9a1ba837-c548-4196-96e0-991a78dc8fa7",
   "metadata": {},
   "outputs": [],
   "source": [
    "params = {}\n",
    "for i,layer in enumerate(model.layers):\n",
    "    pesos, biases = layer.get_weights()\n",
    "    params[f\"Camada_{i}\"] = {\"pesos\": pesos, \"vieses\": biases}"
   ]
  },
  {
   "cell_type": "code",
   "execution_count": 20,
   "id": "ef791c6e-a95e-4b58-b9e1-3745c14e1b1e",
   "metadata": {},
   "outputs": [
    {
     "data": {
      "text/plain": [
       "dict_keys(['Camada_0', 'Camada_1'])"
      ]
     },
     "execution_count": 20,
     "metadata": {},
     "output_type": "execute_result"
    }
   ],
   "source": [
    "# Camadas:\n",
    "params.keys()"
   ]
  },
  {
   "cell_type": "code",
   "execution_count": 21,
   "id": "b0b752f5-fe02-4eb7-8365-3c6684b331a6",
   "metadata": {},
   "outputs": [
    {
     "data": {
      "text/plain": [
       "(30,)"
      ]
     },
     "execution_count": 21,
     "metadata": {},
     "output_type": "execute_result"
    }
   ],
   "source": [
    "params[\"Camada_0\"][\"vieses\"].shape"
   ]
  },
  {
   "cell_type": "code",
   "execution_count": 22,
   "id": "74009237-e905-4c4b-8795-61eabcfef30d",
   "metadata": {},
   "outputs": [
    {
     "data": {
      "text/plain": [
       "{'Camada_0': {'pesos': array([[-8.58065928e+11, -1.04987132e+12, -9.39487265e+11,\n",
       "           4.16395068e-02, -5.02370977e+00,             nan,\n",
       "          -3.47803000e+05, -9.45970532e+12, -2.64318157e+11,\n",
       "          -4.28327936e+10, -4.90022863e+11, -5.76508264e+11,\n",
       "           1.40440226e-01, -7.89641738e-02, -4.93593305e-01,\n",
       "          -5.31933498e+00, -1.17810659e+12, -1.62236631e-01,\n",
       "          -9.50084925e-01, -4.25011625e+05, -1.63554460e-01,\n",
       "                      nan, -3.33323169e+00,             nan,\n",
       "          -5.21046877e+00, -3.40365052e+00, -8.31154160e+11,\n",
       "          -3.01495814e+00, -3.81195545e-03, -5.53762507e+13],\n",
       "         [-6.58331717e+12, -8.05489974e+12, -7.20800160e+12,\n",
       "           2.45105028e-02, -3.31433334e+01,             nan,\n",
       "          -5.64708350e+06, -9.17732640e+14, -2.02792082e+12,\n",
       "          -3.28624767e+11, -3.75958877e+12, -5.59298988e+13,\n",
       "          -3.92131418e-01,  5.42922318e-02, -1.62492800e+00,\n",
       "          -3.69893341e+01, -9.03875343e+12,  5.39523363e-03,\n",
       "          -6.89122105e+00, -6.90068400e+06, -1.82453966e+00,\n",
       "                      nan, -2.08896484e+01,             nan,\n",
       "          -3.62970390e+01, -2.29402943e+01, -6.37684207e+12,\n",
       "          -2.29647503e+01,  2.66184211e-02, -1.36310778e+14],\n",
       "         [-1.19262518e+12, -1.45921566e+12, -1.30579261e+12,\n",
       "           3.50163728e-01, -6.10722685e+00,             nan,\n",
       "          -5.82298750e+05, -8.82435173e+13, -3.67375647e+11,\n",
       "          -5.95332628e+10, -6.81082421e+11, -5.37787525e+12,\n",
       "           2.48565078e-01, -6.97668195e-02, -3.85186374e-02,\n",
       "          -6.27948713e+00, -1.63744933e+12, -3.29682618e-01,\n",
       "          -1.29345250e+00, -7.11563312e+05, -1.63910568e-01,\n",
       "                      nan, -3.38208628e+00,             nan,\n",
       "          -6.59990168e+00, -4.01443434e+00, -1.15522037e+12,\n",
       "          -4.29504871e+00, -2.82532275e-02, -1.02233081e+14],\n",
       "         [-2.56370541e+11, -3.13677611e+11, -2.80697340e+11,\n",
       "          -1.84139565e-01, -1.34235501e+00,             nan,\n",
       "          -1.24344961e+05, -1.76487043e+13, -7.89722399e+10,\n",
       "          -1.27974595e+10, -1.46407670e+11, -1.07557506e+12,\n",
       "           3.67790461e-01, -3.75626624e-01, -1.56889424e-01,\n",
       "          -1.08959901e+00, -3.51991366e+11, -5.56811690e-02,\n",
       "          -4.83818829e-01, -1.51948266e+05,  2.48190984e-02,\n",
       "                      nan, -9.56466258e-01,             nan,\n",
       "          -1.52207255e+00, -5.81134319e-01, -2.48329912e+11,\n",
       "          -4.95823175e-01, -2.40635484e-01, -1.70388472e+13],\n",
       "         [-4.67203690e+14, -5.71638806e+14, -5.11536209e+14,\n",
       "          -3.16856325e-01, -1.96224524e+03,             nan,\n",
       "          -9.56546700e+06, -2.29433160e+14, -1.43917157e+14,\n",
       "          -2.33217920e+13, -2.66809928e+14, -1.39824747e+13,\n",
       "          -1.15265808e+01, -3.77749324e-01, -1.11148643e+02,\n",
       "          -2.21572705e+03, -6.41460882e+14, -1.73851401e-01,\n",
       "          -4.23822571e+02, -1.16889120e+07, -1.29869247e+02,\n",
       "                      nan, -1.24199390e+03,             nan,\n",
       "          -2.17305664e+03, -1.35557068e+03, -4.52550638e+14,\n",
       "          -1.36218372e+03, -2.96644747e-01, -2.72621556e+14],\n",
       "         [-7.33211787e+11, -8.97108279e+11, -8.02785657e+11,\n",
       "           3.85844141e-01, -3.75363541e+00,             nan,\n",
       "          -2.51723203e+05, -4.58866295e+13, -2.25858093e+11,\n",
       "          -3.66003446e+10, -4.18721399e+11, -2.79649504e+12,\n",
       "          -2.48953089e-01, -1.37089103e-01, -1.96173072e-01,\n",
       "          -4.07940292e+00, -1.00668447e+12, -1.28312290e-01,\n",
       "          -5.86260080e-01, -3.07602781e+05, -4.93377626e-01,\n",
       "                      nan, -2.19459057e+00,             nan,\n",
       "          -3.69285893e+00, -1.98926723e+00, -7.10215860e+11,\n",
       "          -2.36778879e+00,  3.65925103e-01, -4.54369288e+13],\n",
       "         [-8.60923363e+12, -1.05336736e+13, -9.42615613e+12,\n",
       "          -4.48480248e-03, -3.91134682e+01,             nan,\n",
       "          -3.93912900e+06, -5.77995023e+14, -2.65198345e+12,\n",
       "          -4.29754155e+11, -4.91654637e+12, -3.52250820e+13,\n",
       "          -8.37315500e-01,  3.97423804e-02, -2.54423928e+00,\n",
       "          -4.41280823e+01, -1.18202963e+13, -1.81291550e-01,\n",
       "          -8.46195221e+00, -4.81357850e+06, -2.21996760e+00,\n",
       "                      nan, -2.45255318e+01,             nan,\n",
       "          -4.32119484e+01, -2.65750484e+01, -8.33921850e+12,\n",
       "          -2.68853741e+01, -5.24177551e-02, -1.20021653e+15],\n",
       "         [ 2.91367037e+13,  3.56496924e+13,  3.19014589e+13,\n",
       "           1.17479950e-01,  1.31708588e+02,             nan,\n",
       "           1.36359780e+07,  2.06825157e+15,  8.97525377e+12,\n",
       "           1.45444084e+12,  1.66393387e+13,  1.26046645e+14,\n",
       "           2.03488541e+00,  2.40272909e-01,  7.87259388e+00,\n",
       "           1.48893875e+02,  4.00040846e+13,  2.14626998e-01,\n",
       "           2.84903488e+01,  1.66630370e+07,  8.75764275e+00,\n",
       "                      nan,  8.33319473e+01,             nan,\n",
       "           1.45874634e+02,  9.12857971e+01,  2.82228781e+13,\n",
       "           9.15877533e+01,  1.76373214e-01,  4.01298954e+15]], dtype=float32),\n",
       "  'vieses': array([-2.44700742e+11, -2.99399250e+11, -2.67920179e+11,  0.00000000e+00,\n",
       "         -1.10352898e+00,             nan, -1.15246594e+05, -1.76487043e+13,\n",
       "         -7.53774674e+10, -1.22149253e+10, -1.39743265e+11, -1.07557506e+12,\n",
       "         -1.87319480e-02,  0.00000000e+00, -6.26036450e-02, -1.24596846e+00,\n",
       "         -3.35968928e+11,  0.00000000e+00, -2.38379955e-01, -1.40830266e+05,\n",
       "         -7.31282160e-02,             nan, -6.98528647e-01,             nan,\n",
       "         -1.22200942e+00, -7.62285650e-01, -2.37026083e+11, -7.65965700e-01,\n",
       "          0.00000000e+00, -3.40776945e+13], dtype=float32)},\n",
       " 'Camada_1': {'pesos': array([[ 1.10518484e+14],\n",
       "         [ 3.84783838e+14],\n",
       "         [ 1.10153219e+14],\n",
       "         [ 2.64464259e-01],\n",
       "         [-1.74142542e+03],\n",
       "         [-1.14515149e+29],\n",
       "         [ 3.75603400e+06],\n",
       "         [ 6.46134964e+13],\n",
       "         [ 5.74977875e+14],\n",
       "         [ 3.16858842e+13],\n",
       "         [ 8.49719350e+14],\n",
       "         [ 1.84036933e+14],\n",
       "         [-1.44688177e+00],\n",
       "         [-1.53113872e-01],\n",
       "         [-9.23789490e+02],\n",
       "         [-7.78912659e+02],\n",
       "         [ 8.55470915e+13],\n",
       "         [-2.17738718e-01],\n",
       "         [-7.03306030e+02],\n",
       "         [ 1.05234238e+06],\n",
       "         [-1.14323853e+03],\n",
       "         [-1.58341760e+27],\n",
       "         [-1.73045264e+03],\n",
       "         [-6.35532171e+26],\n",
       "         [-1.19602173e+03],\n",
       "         [-5.08163239e+02],\n",
       "         [ 2.78652193e+14],\n",
       "         [-1.49356369e+02],\n",
       "         [-4.15801823e-01],\n",
       "         [-5.77010317e+13]], dtype=float32),\n",
       "  'vieses': array([2.076386], dtype=float32)}}"
      ]
     },
     "execution_count": 22,
     "metadata": {},
     "output_type": "execute_result"
    }
   ],
   "source": [
    "params"
   ]
  },
  {
   "cell_type": "code",
   "execution_count": null,
   "id": "fd2f0a0d-f9aa-4aa1-bd1f-0be55cfe0706",
   "metadata": {},
   "outputs": [],
   "source": []
  }
 ],
 "metadata": {
  "kernelspec": {
   "display_name": "Python 3 (ipykernel)",
   "language": "python",
   "name": "python3"
  },
  "language_info": {
   "codemirror_mode": {
    "name": "ipython",
    "version": 3
   },
   "file_extension": ".py",
   "mimetype": "text/x-python",
   "name": "python",
   "nbconvert_exporter": "python",
   "pygments_lexer": "ipython3",
   "version": "3.10.13"
  }
 },
 "nbformat": 4,
 "nbformat_minor": 5
}
